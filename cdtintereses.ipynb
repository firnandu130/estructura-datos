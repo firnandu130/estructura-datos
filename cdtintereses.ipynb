{
  "nbformat": 4,
  "nbformat_minor": 0,
  "metadata": {
    "colab": {
      "name": "cdtintereses.ipynb",
      "provenance": [],
      "collapsed_sections": [],
      "authorship_tag": "ABX9TyNL37YKmgPqRCqo9macLe0v",
      "include_colab_link": true
    },
    "kernelspec": {
      "name": "python3",
      "display_name": "Python 3"
    },
    "language_info": {
      "name": "python"
    }
  },
  "cells": [
    {
      "cell_type": "markdown",
      "metadata": {
        "id": "view-in-github",
        "colab_type": "text"
      },
      "source": [
        "<a href=\"https://colab.research.google.com/github/firnandu130/estructura-datos/blob/main/cdtintereses.ipynb\" target=\"_parent\"><img src=\"https://colab.research.google.com/assets/colab-badge.svg\" alt=\"Open In Colab\"/></a>"
      ]
    },
    {
      "cell_type": "code",
      "execution_count": null,
      "metadata": {
        "colab": {
          "base_uri": "https://localhost:8080/"
        },
        "id": "9STKk6UuCb5T",
        "outputId": "c84ef823-71c3-4583-89e5-713465d86bed"
      },
      "outputs": [
        {
          "output_type": "stream",
          "name": "stdout",
          "text": [
            "Ingrese usuario:asdsfHGFHGFH76\n",
            "Ingrese capital:100\n",
            "Ingrese meses:400\n",
            "Para el usuario asdsfHGFHGFH76 , las ganancias odtenidas para un monto de 100.0  ,en un tiempo de 400.0 meses es: 200.0\n"
          ]
        }
      ],
      "source": [
        "usuario=str(input(\"Ingrese usuario:\"))\n",
        "capital=float(input(\"Ingrese capital:\"))\n",
        "tiempo=float(input(\"Ingrese meses:\"))\n",
        "if  tiempo>2:\n",
        "    capital_C = ((capital* 0.03 * tiempo)/12) + capital\n",
        "    print(\"Para el usuario\", usuario ,\", las ganancias odtenidas para un monto de\", capital, \" ,en un tiempo de\",tiempo,\"meses es:\",capital_C)\n",
        "else:\n",
        "    capital_S =capital-(capital* 0.02)\n",
        "    print(\"Para el usuario\",usuario,\", la cantidad de dinero a recibir para un capital de\", capital, \", para un tiempo de\",tiempo,\"meses es:\",capital_S)\n",
        " "
      ]
    }
  ]
}